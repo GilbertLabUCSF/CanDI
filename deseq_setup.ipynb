{
 "cells": [
  {
   "cell_type": "markdown",
   "id": "1f10a491",
   "metadata": {},
   "source": [
    "### CanDI and DESeq2\n",
    "Let's say I want to look at changes in RNA expression across some cell lines in CCLE. DESeq2 is my preffered tool for doing differential expression analysis, unforutantely it's written in R. CanDI makes it easy to format CCLE read counts data into the shape that DESeq2 expects."
   ]
  },
  {
   "cell_type": "code",
   "execution_count": 4,
   "id": "9da73525",
   "metadata": {},
   "outputs": [],
   "source": [
    "import CanDI as can\n",
    "import numpy as np\n",
    "import pandas as pd"
   ]
  },
  {
   "cell_type": "markdown",
   "id": "344815c2",
   "metadata": {},
   "source": [
    "#### Object Instantiation\n",
    "For this example I'm going to do differential expression analysis across male and female KRAS mutant cell lines. The cell below uses CanDI to generate the correct CellLineCluster objects for our purpose."
   ]
  },
  {
   "cell_type": "code",
   "execution_count": 42,
   "id": "5cb9bd5b",
   "metadata": {},
   "outputs": [],
   "source": [
    "lung = can.Cancer(\"Lung Cancer\", subtype=\"NSCLC\")\n",
    "lung = can.CellLineCluster(lung.mutated(\"KRAS\", variant = \"Variant_Classification\", item = \"Missense_Mutation\"))\n",
    "\n",
    "lung_male = can.CellLineCluster(list(lung._info.loc[lung._info.sex == \"Male\",].index))\n",
    "lung_female = can.CellLineCluster(list(lung._info.loc[lung._info.sex == \"Female\"].index))\n",
    "\n"
   ]
  },
  {
   "cell_type": "markdown",
   "id": "759b43cc",
   "metadata": {},
   "source": [
    "#### Data Munging\n",
    "The follow function takes two objects that we want to compare and automatically generates the counts and coldata matrices that DESeq2 needs to run. It's typically a good idea to filter our genes/transcripts with consistently low counts prior to running DESeq2. This speeds up analysis and avoids issues related to read count scaling and multiple hypthothesis testing corrections. The function below will filter out all genes that have mean read counts less than 10. In this case we don't care about different splicing of the same genes so I sum counts for duplicate indeces for all samples. "
   ]
  },
  {
   "cell_type": "code",
   "execution_count": 43,
   "id": "e632ef86",
   "metadata": {},
   "outputs": [],
   "source": [
    "def make_counts_coldata(obj1, obj2, condition, factor1, factor2):\n",
    "    \n",
    "    counts1 = obj1.rnaseq_reads\n",
    "    coldat1 = pd.Series(counts1.shape[1] * [factor1], index = counts1.columns, name = condition)\n",
    "    \n",
    "    counts2 = obj2.rnaseq_reads\n",
    "    coldat2 = pd.Series(counts2.shape[1] * [factor2], index = counts2.columns, name = condition)\n",
    "    \n",
    "    #Concatenate Column Data\n",
    "    coldat = pd.concat([coldat1, coldat2], axis = 0)\n",
    "    \n",
    "    #Concatenate read count data \n",
    "    counts_mat = pd.concat([counts1, counts2], axis = 1)\n",
    "    #Filter out lowley epxressed genes\n",
    "    counts_mat = counts_mat.loc[counts_mat.mean(1) < 10, ].astype(int)\n",
    "    #Sum duplicate indeces\n",
    "    counts_mat = counts_mat.groupby(counts_mat.index).sum()\n",
    "    \n",
    "    return counts_mat, coldat\n",
    "    \n",
    "counts, coldat = make_counts_coldata(lung_male, lung_female, \"sex\", \"male\", \"female\")\n",
    "\n",
    "#counts.to_csv(\"temp_dat/lung_sex_counts.csv\")\n",
    "#coldat.to_csv(\"temp_dat/lung_sex_coldata.csv\")"
   ]
  },
  {
   "cell_type": "markdown",
   "id": "fd64207a",
   "metadata": {},
   "source": [
    "#### Running DESeq2\n",
    "In the following cell I use the csvs I just saved as arguments for an r-script that runs DESeq2. The last argument in this script the filname for the results."
   ]
  },
  {
   "cell_type": "code",
   "execution_count": null,
   "id": "13393af7",
   "metadata": {},
   "outputs": [],
   "source": [
    "!Rscript scripts/run_deseq.r temp_dat/lung_sex_counts.csv temp_dat/lung_sex_coldata.csv temp_dat/lung_sex_deseq.csv"
   ]
  },
  {
   "cell_type": "markdown",
   "id": "a71f160c",
   "metadata": {},
   "source": [
    "#### Analyzing Results\n",
    "Now we can read the results of the differential expression analysis back into our python enviroment and continue analysis as necessary. "
   ]
  },
  {
   "cell_type": "code",
   "execution_count": 50,
   "id": "68ffee9c",
   "metadata": {},
   "outputs": [
    {
     "data": {
      "text/html": [
       "<div>\n",
       "<style scoped>\n",
       "    .dataframe tbody tr th:only-of-type {\n",
       "        vertical-align: middle;\n",
       "    }\n",
       "\n",
       "    .dataframe tbody tr th {\n",
       "        vertical-align: top;\n",
       "    }\n",
       "\n",
       "    .dataframe thead th {\n",
       "        text-align: right;\n",
       "    }\n",
       "</style>\n",
       "<table border=\"1\" class=\"dataframe\">\n",
       "  <thead>\n",
       "    <tr style=\"text-align: right;\">\n",
       "      <th></th>\n",
       "      <th>baseMean</th>\n",
       "      <th>log2FoldChange</th>\n",
       "      <th>lfcSE</th>\n",
       "      <th>stat</th>\n",
       "      <th>pvalue</th>\n",
       "      <th>padj</th>\n",
       "    </tr>\n",
       "  </thead>\n",
       "  <tbody>\n",
       "    <tr>\n",
       "      <th>A2ML1-AS1</th>\n",
       "      <td>0.050427</td>\n",
       "      <td>0.221562</td>\n",
       "      <td>3.213483</td>\n",
       "      <td>0.068948</td>\n",
       "      <td>0.945031</td>\n",
       "      <td>NaN</td>\n",
       "    </tr>\n",
       "    <tr>\n",
       "      <th>A2ML1-AS2</th>\n",
       "      <td>0.000000</td>\n",
       "      <td>NaN</td>\n",
       "      <td>NaN</td>\n",
       "      <td>NaN</td>\n",
       "      <td>NaN</td>\n",
       "      <td>NaN</td>\n",
       "    </tr>\n",
       "    <tr>\n",
       "      <th>A2MP1</th>\n",
       "      <td>0.537341</td>\n",
       "      <td>0.085599</td>\n",
       "      <td>1.020871</td>\n",
       "      <td>0.083849</td>\n",
       "      <td>0.933176</td>\n",
       "      <td>NaN</td>\n",
       "    </tr>\n",
       "    <tr>\n",
       "      <th>A3GALT2</th>\n",
       "      <td>0.961101</td>\n",
       "      <td>-1.256893</td>\n",
       "      <td>0.736166</td>\n",
       "      <td>-1.707349</td>\n",
       "      <td>0.087757</td>\n",
       "      <td>NaN</td>\n",
       "    </tr>\n",
       "    <tr>\n",
       "      <th>A4GNT</th>\n",
       "      <td>3.320609</td>\n",
       "      <td>0.734466</td>\n",
       "      <td>0.738855</td>\n",
       "      <td>0.994060</td>\n",
       "      <td>0.320194</td>\n",
       "      <td>0.823095</td>\n",
       "    </tr>\n",
       "  </tbody>\n",
       "</table>\n",
       "</div>"
      ],
      "text/plain": [
       "           baseMean  log2FoldChange     lfcSE      stat    pvalue      padj\n",
       "A2ML1-AS1  0.050427        0.221562  3.213483  0.068948  0.945031       NaN\n",
       "A2ML1-AS2  0.000000             NaN       NaN       NaN       NaN       NaN\n",
       "A2MP1      0.537341        0.085599  1.020871  0.083849  0.933176       NaN\n",
       "A3GALT2    0.961101       -1.256893  0.736166 -1.707349  0.087757       NaN\n",
       "A4GNT      3.320609        0.734466  0.738855  0.994060  0.320194  0.823095"
      ]
     },
     "execution_count": 50,
     "metadata": {},
     "output_type": "execute_result"
    }
   ],
   "source": [
    "res = pd.read_csv(\"temp_dat/lung_sex_deseq.csv\", index_col = \"Unnamed: 0\")\n",
    "res.head()"
   ]
  }
 ],
 "metadata": {
  "kernelspec": {
   "display_name": "Python 3",
   "language": "python",
   "name": "python3"
  },
  "language_info": {
   "codemirror_mode": {
    "name": "ipython",
    "version": 3
   },
   "file_extension": ".py",
   "mimetype": "text/x-python",
   "name": "python",
   "nbconvert_exporter": "python",
   "pygments_lexer": "ipython3",
   "version": "3.9.2"
  }
 },
 "nbformat": 4,
 "nbformat_minor": 5
}
