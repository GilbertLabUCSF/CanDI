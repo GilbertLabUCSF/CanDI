{
 "cells": [
  {
   "cell_type": "markdown",
   "id": "163bb85c",
   "metadata": {},
   "source": [
    "# CanDI and DESeq2\n",
    "Let's say I want to look at changes in RNA expression across some cell lines in CCLE. DESeq2 is my preffered tool for doing differential expression analysis, unforutantely it's written in R. CanDI makes it easy to format CCLE read counts data into the shape that DESeq2 expects."
   ]
  },
  {
   "cell_type": "code",
   "execution_count": 1,
   "id": "72858c31",
   "metadata": {},
   "outputs": [],
   "source": [
    "import CanDI.candi as can\n",
    "import numpy as np\n",
    "import pandas as pd"
   ]
  },
  {
   "cell_type": "markdown",
   "id": "319b94c2",
   "metadata": {},
   "source": [
    "#### Object Instantiation\n",
    "For this example I'm going to do differential expression analysis across male and female KRAS mutant cell lines. The cell below uses CanDI to generate the correct CellLineCluster objects for our purpose."
   ]
  },
  {
   "cell_type": "code",
   "execution_count": 2,
   "id": "e3794753",
   "metadata": {},
   "outputs": [
    {
     "name": "stdout",
     "output_type": "stream",
     "text": [
      "mutations has not been loaded. Do you want to load, y/n?> y\n",
      "Load Complete\n"
     ]
    }
   ],
   "source": [
    "lung = can.Cancer(\"Lung Cancer\", subtype = \"NSCLC\")\n",
    "lung = can.CellLineCluster(lung.mutated(\"KRAS\", variant = \"Variant_Classification\", item = \"Missense_Mutation\"))\n",
    "\n",
    "lung_male = can.CellLineCluster(list(lung._info.loc[lung._info.sex == \"Male\",].index))\n",
    "lung_female = can.CellLineCluster(list(lung._info.loc[lung._info.sex == \"Female\"].index))"
   ]
  },
  {
   "cell_type": "markdown",
   "id": "5aae975f",
   "metadata": {},
   "source": [
    "#### Data Munging\n",
    "The follow function takes two objects that we want to compare and automatically generates the counts and coldata matrices that DESeq2 needs to run. It's typically a good idea to filter our genes/transcripts with consistently low counts prior to running DESeq2. This speeds up analysis and avoids issues related to read count scaling and multiple hypthothesis testing corrections. In this case we don't care about different splicing of the same genes so I sum counts for duplicate indeces for all samples. "
   ]
  },
  {
   "cell_type": "code",
   "execution_count": 3,
   "id": "c697995d",
   "metadata": {},
   "outputs": [
    {
     "name": "stdout",
     "output_type": "stream",
     "text": [
      "rnaseq_reads has not been loaded. Do you want to load, y/n?> y\n",
      "Load Complete\n"
     ]
    }
   ],
   "source": [
    "def make_counts_coldata(obj1, obj2, condition, factor1, factor2):\n",
    "    \n",
    "    counts1 = obj1.rnaseq_reads\n",
    "    coldat1 = pd.Series(counts1.shape[1] * [factor1], index = counts1.columns, name = condition)\n",
    "    \n",
    "    counts2 = obj2.rnaseq_reads\n",
    "    coldat2 = pd.Series(counts2.shape[1] * [factor2], index = counts2.columns, name = condition)\n",
    "    \n",
    "    #Concatenate Column Data\n",
    "    coldat = pd.concat([coldat1, coldat2], axis = 0)\n",
    "    #Concatenate read count data \n",
    "    counts_mat = pd.concat([counts1, counts2], axis = 1)\n",
    "    #Sum duplicate indeces\n",
    "    counts_mat = counts_mat.groupby(counts_mat.index).sum().astype(int)\n",
    "    \n",
    "    return counts_mat, coldat\n",
    "    \n",
    "counts, coldat = make_counts_coldata(lung_male, lung_female, \"sex\", \"male\", \"female\")\n",
    "\n",
    "counts.to_csv(\"temp_dat/lung_sex_counts.csv\")\n",
    "coldat.to_csv(\"temp_dat/lung_sex_coldata.csv\")"
   ]
  },
  {
   "cell_type": "markdown",
   "id": "d148ea96",
   "metadata": {},
   "source": [
    "#### Running DESeq2\n",
    "In the following cell I use the csvs I just saved as arguments for an r-script that runs DESeq2. The last argument in this script the filname for the results."
   ]
  },
  {
   "cell_type": "code",
   "execution_count": null,
   "id": "d771eb95",
   "metadata": {},
   "outputs": [],
   "source": [
    "!Rscript scripts/run_deseq.r temp_dat/lung_sex_counts.csv temp_dat/lung_sex_coldata.csv temp_dat/lung_sex_deseq.csv"
   ]
  },
  {
   "cell_type": "markdown",
   "id": "275e042d",
   "metadata": {},
   "source": [
    "#### Analyzing Results\n",
    "Now we can read the results of the differential expression analysis back into our python enviroment and continue analysis as necessary. Looking at the genes with the lowest adjusted p-value we see that XIST is the most significant differentially expressed genes. XIST is a lncRNA responsible for X inactivation in females so this a good positive control for our analysis."
   ]
  },
  {
   "cell_type": "code",
   "execution_count": 4,
   "id": "f72ee6cd",
   "metadata": {},
   "outputs": [
    {
     "data": {
      "text/html": [
       "<div>\n",
       "<style scoped>\n",
       "    .dataframe tbody tr th:only-of-type {\n",
       "        vertical-align: middle;\n",
       "    }\n",
       "\n",
       "    .dataframe tbody tr th {\n",
       "        vertical-align: top;\n",
       "    }\n",
       "\n",
       "    .dataframe thead th {\n",
       "        text-align: right;\n",
       "    }\n",
       "</style>\n",
       "<table border=\"1\" class=\"dataframe\">\n",
       "  <thead>\n",
       "    <tr style=\"text-align: right;\">\n",
       "      <th></th>\n",
       "      <th>baseMean</th>\n",
       "      <th>log2FoldChange</th>\n",
       "      <th>lfcSE</th>\n",
       "      <th>stat</th>\n",
       "      <th>pvalue</th>\n",
       "      <th>padj</th>\n",
       "    </tr>\n",
       "  </thead>\n",
       "  <tbody>\n",
       "    <tr>\n",
       "      <th>XIST</th>\n",
       "      <td>3936.090666</td>\n",
       "      <td>-7.030433</td>\n",
       "      <td>0.708612</td>\n",
       "      <td>-9.921418</td>\n",
       "      <td>3.359498e-23</td>\n",
       "      <td>9.148248e-19</td>\n",
       "    </tr>\n",
       "    <tr>\n",
       "      <th>BCL2L15</th>\n",
       "      <td>435.882075</td>\n",
       "      <td>-5.505807</td>\n",
       "      <td>0.604359</td>\n",
       "      <td>-9.110166</td>\n",
       "      <td>8.225616e-20</td>\n",
       "      <td>7.466391e-16</td>\n",
       "    </tr>\n",
       "    <tr>\n",
       "      <th>FAM224B</th>\n",
       "      <td>10.235047</td>\n",
       "      <td>21.650886</td>\n",
       "      <td>2.367773</td>\n",
       "      <td>9.143987</td>\n",
       "      <td>6.019109e-20</td>\n",
       "      <td>7.466391e-16</td>\n",
       "    </tr>\n",
       "    <tr>\n",
       "      <th>CEACAM5</th>\n",
       "      <td>12273.358936</td>\n",
       "      <td>-7.444559</td>\n",
       "      <td>0.859163</td>\n",
       "      <td>-8.664898</td>\n",
       "      <td>4.519171e-18</td>\n",
       "      <td>3.076539e-14</td>\n",
       "    </tr>\n",
       "    <tr>\n",
       "      <th>GJB1</th>\n",
       "      <td>90.468162</td>\n",
       "      <td>-6.193651</td>\n",
       "      <td>0.741574</td>\n",
       "      <td>-8.352040</td>\n",
       "      <td>6.709420e-17</td>\n",
       "      <td>3.654085e-13</td>\n",
       "    </tr>\n",
       "  </tbody>\n",
       "</table>\n",
       "</div>"
      ],
      "text/plain": [
       "             baseMean  log2FoldChange     lfcSE      stat        pvalue  \\\n",
       "XIST      3936.090666       -7.030433  0.708612 -9.921418  3.359498e-23   \n",
       "BCL2L15    435.882075       -5.505807  0.604359 -9.110166  8.225616e-20   \n",
       "FAM224B     10.235047       21.650886  2.367773  9.143987  6.019109e-20   \n",
       "CEACAM5  12273.358936       -7.444559  0.859163 -8.664898  4.519171e-18   \n",
       "GJB1        90.468162       -6.193651  0.741574 -8.352040  6.709420e-17   \n",
       "\n",
       "                 padj  \n",
       "XIST     9.148248e-19  \n",
       "BCL2L15  7.466391e-16  \n",
       "FAM224B  7.466391e-16  \n",
       "CEACAM5  3.076539e-14  \n",
       "GJB1     3.654085e-13  "
      ]
     },
     "execution_count": 4,
     "metadata": {},
     "output_type": "execute_result"
    }
   ],
   "source": [
    "res = pd.read_csv(\"temp_dat/lung_sex_deseq.csv\", index_col = \"Unnamed: 0\")\n",
    "res.sort_values(\"padj\").head()"
   ]
  }
 ],
 "metadata": {
  "kernelspec": {
   "display_name": "Python 3",
   "language": "python",
   "name": "python3"
  },
  "language_info": {
   "codemirror_mode": {
    "name": "ipython",
    "version": 3
   },
   "file_extension": ".py",
   "mimetype": "text/x-python",
   "name": "python",
   "nbconvert_exporter": "python",
   "pygments_lexer": "ipython3",
   "version": "3.9.2"
  }
 },
 "nbformat": 4,
 "nbformat_minor": 5
}
